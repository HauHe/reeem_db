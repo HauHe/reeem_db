{
 "cells": [
  {
   "cell_type": "markdown",
   "metadata": {},
   "source": [
    "# Header\n",
    "\n",
    "<img src=\"http://reiner-lemoine-institut.de//wp-content/uploads/2015/09/rlilogo.png\" width=\"100\" style=\"float: right\">\n",
    "\n",
    "__copyright__ \t= \"© Reiner Lemoine Institut\" <br>\n",
    "__license__ \t= \"GNU Affero General Public License Version 3 (AGPL-3.0)\" <br>\n",
    "__url__ \t\t= \"https://www.gnu.org/licenses/agpl-3.0.en.html\" <br>\n",
    "__author__ \t\t= \"Ludwig Hülk\" <br>"
   ]
  },
  {
   "cell_type": "markdown",
   "metadata": {},
   "source": [
    "# Import"
   ]
  },
  {
   "cell_type": "code",
   "execution_count": 1,
   "metadata": {},
   "outputs": [
    {
     "data": {
      "text/html": [
       "<script>requirejs.config({paths: { 'plotly': ['https://cdn.plot.ly/plotly-latest.min']},});if(!window.Plotly) {{require(['plotly'],function(plotly) {window.Plotly=plotly;});}}</script>"
      ],
      "text/vnd.plotly.v1+html": [
       "<script>requirejs.config({paths: { 'plotly': ['https://cdn.plot.ly/plotly-latest.min']},});if(!window.Plotly) {{require(['plotly'],function(plotly) {window.Plotly=plotly;});}}</script>"
      ]
     },
     "metadata": {},
     "output_type": "display_data"
    }
   ],
   "source": [
    "import sys\n",
    "import os\n",
    "import getpass\n",
    "import pandas as pd\n",
    "import numpy as np\n",
    "from sqlalchemy import *\n",
    "# plot\n",
    "import matplotlib.pyplot as plt\n",
    "import matplotlib.ticker as mticker\n",
    "import plotly.graph_objs as go\n",
    "import plotly.offline as pltly\n",
    "import colorlover as cl\n",
    "import seaborn as sns\n",
    "# notebook\n",
    "from IPython.display import Image\n",
    "from IPython.core.display import HTML \n",
    "\n",
    "pltly.init_notebook_mode(connected=True)\n",
    "%matplotlib inline\n",
    "\n",
    "version = 'v0.1.3 (jupyther)'\n",
    "project = 'REEEM'"
   ]
  },
  {
   "cell_type": "markdown",
   "metadata": {},
   "source": [
    "# Database Connection\n",
    "\n",
    "This function creates a database connection to the **reeem_db**.<br>\n",
    "The default user is **reeem_vis**, a user that has only read rights."
   ]
  },
  {
   "cell_type": "code",
   "execution_count": 2,
   "metadata": {},
   "outputs": [],
   "source": [
    "def reeem_session():\n",
    "    \"\"\"SQLAlchemy session object with valid connection to reeem database\"\"\"\n",
    "    \n",
    "    print('Please provide connection parameters to database:\\n' +\n",
    "              'Hit [Enter] to take defaults')\n",
    "    host = '130.226.55.43' # input('host (default 130.226.55.43): ')\n",
    "    port = '5432' # input('port (default 5432): ')\n",
    "    database = 'reeem' # input(\"database name (default 'reeem'): \")\n",
    "    user = 'reeem_vis' # input('user (default postgres): ')\n",
    "    # password = input('password: ')\n",
    "    password = getpass.getpass(prompt='password: ',\n",
    "                                   stream=sys.stderr)\n",
    "    con = create_engine(\n",
    "            'postgresql://' + '%s:%s@%s:%s/%s' % (user,\n",
    "                                                  password,\n",
    "                                                  host,\n",
    "                                                  port,\n",
    "                                                  database)).connect()\n",
    "    print('Password correct! Database connection established.')\n",
    "    return con"
   ]
  },
  {
   "cell_type": "markdown",
   "metadata": {},
   "source": [
    "# Access Data\n",
    "\n",
    "This section establishes the database connection and asks for the **password**.<br>\n",
    "The username can be changed in the corresponding function in the section **Database Connection** above.<br>\n",
    "If you don't have a username or forgot your password please contact your database admins."
   ]
  },
  {
   "cell_type": "code",
   "execution_count": 3,
   "metadata": {},
   "outputs": [
    {
     "name": "stderr",
     "output_type": "stream",
     "text": [
      "C:\\Anaconda3\\envs\\reeem-vis\\lib\\site-packages\\ipykernel_launcher.py:12: UserWarning:\n",
      "\n",
      "The `stream` parameter of `getpass.getpass` will have no effect when using ipykernel\n",
      "\n"
     ]
    },
    {
     "name": "stdout",
     "output_type": "stream",
     "text": [
      "Please provide connection parameters to database:\n",
      "Hit [Enter] to take defaults\n",
      "password: ········\n",
      "Password correct! Database connection established.\n"
     ]
    }
   ],
   "source": [
    "con = reeem_session()"
   ]
  },
  {
   "cell_type": "markdown",
   "metadata": {},
   "source": [
    "# View 0.1: Existing entries in one column\n",
    "## Database Query\n",
    "\n",
    "This section can be used to query one specific database **column** from one database table (**FROM**).<br>\n",
    "The result is saved to a pandas.DataFrame (**df_0**) and printed."
   ]
  },
  {
   "cell_type": "code",
   "execution_count": 4,
   "metadata": {},
   "outputs": [
    {
     "name": "stdout",
     "output_type": "stream",
     "text": [
      "                pathway\n",
      "0                  Base\n",
      "1  Base(withRen.Target)\n",
      "2               HighRES\n",
      "3                 Pilot\n",
      "4                Pilot2\n",
      "5          StorageInnov\n"
     ]
    }
   ],
   "source": [
    "# Database select (SQL)\n",
    "column = 'pathway' # id, pathway, version, region, year, indicator, category, value, unit\n",
    "sql = text(\"\"\"\n",
    "    SELECT  {0} \n",
    "    FROM    model_draft.reeem_times_paneu_output \n",
    "    GROUP BY {0} \n",
    "    ORDER BY {0}; \"\"\".format(column))\n",
    "df_0 = pd.read_sql_query(sql, con)\n",
    "print(df_0)"
   ]
  },
  {
   "cell_type": "markdown",
   "metadata": {},
   "source": [
    "# View 0.2: Search for existing indicators\n",
    "## Database Query\n",
    "\n",
    "This section can be used to search for one specific **indicator** and its **nid** in one database table.<br>\n",
    "The documentation of the **LIKE** expression is [here](https://www.postgresql.org/docs/current/static/functions-matching.html#FUNCTIONS-LIKE). \n",
    "The result is printed.<br>\n",
    "Hint: If one indicator has multiple nid it is a bug!"
   ]
  },
  {
   "cell_type": "code",
   "execution_count": 5,
   "metadata": {},
   "outputs": [
    {
     "name": "stdout",
     "output_type": "stream",
     "text": [
      "                pathway version  nid                              category  \\\n",
      "0          StorageInnov  DataV1  867  Emissions by Emittant and Sector_CO2   \n",
      "1  Base(withRen.Target)  DataV1  867  Emissions by Emittant and Sector_CO2   \n",
      "2                 Pilot  DataV1  867  Emissions by Emittant and Sector_CO2   \n",
      "3                Pilot2  DataV1  867  Emissions by Emittant and Sector_CO2   \n",
      "4                  Base  DataV1  867  Emissions by Emittant and Sector_CO2   \n",
      "5               HighRES  DataV1  867  Emissions by Emittant and Sector_CO2   \n",
      "6                  Base  DataV2  867  Emissions by Emittant and Sector_CO2   \n",
      "7                  Base  DataV2  933  Emissions by Emittant and Sector_CO2   \n",
      "\n",
      "  indicator  \n",
      "0       CO2  \n",
      "1       CO2  \n",
      "2       CO2  \n",
      "3       CO2  \n",
      "4       CO2  \n",
      "5       CO2  \n",
      "6       CO2  \n",
      "7       CO2  \n"
     ]
    }
   ],
   "source": [
    "# Database select (SQL)\n",
    "sql = text(\"\"\"\n",
    "    SELECT  pathway, version, nid, category, indicator\n",
    "    FROM    model_draft.reeem_times_paneu_output \n",
    "    WHERE   category LIKE 'Emissions%' \n",
    "            AND indicator = 'CO2' \n",
    "    GROUP BY pathway, version, nid, category , indicator\n",
    "    ORDER BY nid, category , indicator; \"\"\")\n",
    "df_0 = pd.read_sql_query(sql, con)\n",
    "print(df_0)"
   ]
  },
  {
   "cell_type": "markdown",
   "metadata": {},
   "source": [
    "# View 0.3: Table metadata\n",
    "## Database Query\n",
    "\n",
    "This section can be used to get the metadata from one database table.<br>\n",
    "The result is printed.<br>"
   ]
  },
  {
   "cell_type": "code",
   "execution_count": 6,
   "metadata": {},
   "outputs": [
    {
     "data": {
      "text/plain": [
       "0    {\"title\": \"REEEM Times PanEU Output\",\\n    \"de...\n",
       "Name: obj_description, dtype: object"
      ]
     },
     "execution_count": 6,
     "metadata": {},
     "output_type": "execute_result"
    }
   ],
   "source": [
    "# Database select (SQL)\n",
    "sql = text(\"\"\"SELECT obj_description('model_draft.reeem_times_paneu_output'::regclass);\"\"\")\n",
    "df_meta = pd.read_sql_query(sql, con).loc[:,'obj_description']\n",
    "df_meta"
   ]
  },
  {
   "cell_type": "code",
   "execution_count": null,
   "metadata": {},
   "outputs": [],
   "source": [
    "   "
   ]
  },
  {
   "cell_type": "markdown",
   "metadata": {},
   "source": [
    "# View 1: One indicator for one region in one pathway over time\n",
    "## Database Query\n",
    "\n",
    "This section can be used to query one specific **indicator** (_filter 1_) for one specific **region** (_filter 2_) from one database table (_table_).<br>\n",
    "Indicators are identified by the **nid**.<br>\n",
    "It is possible to select one specific **pathway** (_filter 3_) and one specific data **version** (_filter 4_).<br>\n",
    "To querry additional coulmns from the database table add the names to the **SELECT** statement (_column_).<br>\n",
    "The sortation is done by the **ORDER BY** (_sorting_).<br>\n",
    "The result from the database is saved to a pandas.DataFrame (**df_1**) and can be printed."
   ]
  },
  {
   "cell_type": "code",
   "execution_count": 7,
   "metadata": {},
   "outputs": [],
   "source": [
    "# Database select (SQL)\n",
    "sql = text(\"\"\"\n",
    "    SELECT  pathway, version, region, year, indicator, category, value, unit  -- column\n",
    "    FROM    model_draft.reeem_times_paneu_output  -- table\n",
    "    WHERE nid = 867                               -- filter 1\n",
    "        AND region = 'EU28'                       -- filter 2\n",
    "        AND pathway = 'Base'                      -- filter 3\n",
    "        AND version = 'DataV1'                    -- filter 4\n",
    "    ORDER BY pathway, version, year;              -- sorting \"\"\")\n",
    "df_1 = pd.read_sql_query(sql, con)\n",
    "# print(df_1)"
   ]
  },
  {
   "cell_type": "markdown",
   "metadata": {},
   "source": [
    "## Metadata\n",
    "\n",
    "The important information from the above select (**df_1**) is collected in a Dictionary (**info_dict_1**)."
   ]
  },
  {
   "cell_type": "code",
   "execution_count": 9,
   "metadata": {},
   "outputs": [
    {
     "name": "stdout",
     "output_type": "stream",
     "text": [
      "Filename : ['2018-05-07_reeem_plot_1']\n",
      "Category : ['Emissions by Emittant and Sector_CO2']\n",
      "Indicator : ['CO2']\n",
      "Unit : ['Mt']\n",
      "Pathway : ['Base']\n",
      "Year : [2015, 2020, 2025, 2030, 2035, 2040, 2045, 2050]\n",
      "Region : ['EU28']\n",
      "Y-Axis : ['CO2 in Mt']\n",
      "Title : ['Emissions by Emittant and Sector_CO2 in EU28']\n",
      "Metadata : 0    {\"title\": \"REEEM Times PanEU Output\",\\n    \"de...\n",
      "Name: obj_description, dtype: object\n"
     ]
    }
   ],
   "source": [
    "# Facts dict\n",
    "info_dict_1 = {}\n",
    "info_dict_1['Filename'] = ['{}_reeem_plot_1' .format(pd.to_datetime('today').strftime(\"%Y-%m-%d\"))]\n",
    "info_dict_1['Category'] = df_1.loc[:,'category'].unique()\n",
    "info_dict_1['Indicator'] = df_1.loc[:,'indicator'].unique()\n",
    "info_dict_1['Unit'] = df_1.loc[:,'unit'].unique()\n",
    "info_dict_1['Pathway'] = df_1.loc[:,'pathway'].unique()\n",
    "info_dict_1['Year'] = df_1.loc[:,'year'].unique().tolist()\n",
    "info_dict_1['Region'] = df_1.loc[:,'region'].unique()\n",
    "info_dict_1['Y-Axis'] = ['{} in {}'.format(*info_dict_1['Indicator'], *info_dict_1['Unit'])]\n",
    "info_dict_1['Title'] = ['{} in {}'.format(*info_dict_1['Category'], *info_dict_1['Region'])]\n",
    "info_dict_1['Metadata'] = df_meta\n",
    "\n",
    "# Print facts\n",
    "for x in info_dict_1:\n",
    "    print(x,':',info_dict_1[x])"
   ]
  },
  {
   "cell_type": "markdown",
   "metadata": {},
   "source": [
    "## Plot\n",
    "\n",
    "This is a basic plot with [matplotlib](https://matplotlib.org/).<br>\n",
    "The title and y-axis labels are taken from the **info_dict_1**. They can be exchanged with manual text."
   ]
  },
  {
   "cell_type": "code",
   "execution_count": 10,
   "metadata": {},
   "outputs": [
    {
     "data": {
      "text/plain": [
       "(0, 3608.7828)"
      ]
     },
     "execution_count": 10,
     "metadata": {},
     "output_type": "execute_result"
    },
    {
     "data": {
      "image/png": "[encoded data removed]",
      "text/plain": [
       "<Figure size 864x360 with 1 Axes>"
      ]
     },
     "metadata": {},
     "output_type": "display_data"
    }
   ],
   "source": [
    "# Plot for one indicator and one pathway\n",
    "fig = plt.figure(figsize=(12, 5))\n",
    "ax = plt.subplot()\n",
    "# plt.title(r'CO2-Emissions in EU28', fontsize=16)  # Manual title\n",
    "plt.title(*info_dict_1['Title'], fontsize=16)         # Title from info\n",
    "# plt.ylabel(r'CO2-Emissions in Mt')                # Manual label\n",
    "plt.ylabel(*info_dict_1['Y-Axis'])                    # Label from info\n",
    "plt.plot(df_1.loc[:,'year'], df_1.loc[:,'value'], \n",
    "         marker=\"o\",  markersize=5)\n",
    "plt.legend(df_1.loc[:,'pathway'].unique())\n",
    "ax.set_ylim(ymin=0)"
   ]
  },
  {
   "cell_type": "markdown",
   "metadata": {},
   "source": [
    "## Interactive Plot\n",
    "\n",
    "This is a basic interactive plot with [Plotly](https://plot.ly/python/).<br>\n",
    "You can hover over the elements of the plot and observe the data."
   ]
  },
  {
   "cell_type": "code",
   "execution_count": 12,
   "metadata": {},
   "outputs": [
    {
     "data": {
      "application/vnd.plotly.v1+json": {
       "data": [
        {
         "name": [
          "Base"
         ],
         "type": "scatter",
         "x": [
          2015,
          2020,
          2025,
          2030,
          2035,
          2040,
          2045,
          2050
         ],
         "y": [
          3478.038,
          3362.647,
          3142.404,
          2611.727,
          2238.62,
          1815.762,
          1377.745,
          863.142
         ]
        }
       ],
       "layout": {
        "height": 400,
        "title": "Emissions by Emittant and Sector_CO2 in EU28",
        "width": 800,
        "yaxis": {
         "title": "CO2 in Mt"
        }
       }
      },
      "text/html": [
       "<div id=\"96a86685-f4b0-416e-8be4-408b203de7f2\" style=\"height: 400px; width: 800px;\" class=\"plotly-graph-div\"></div><script type=\"text/javascript\">require([\"plotly\"], function(Plotly) { window.PLOTLYENV=window.PLOTLYENV || {};window.PLOTLYENV.BASE_URL=\"https://plot.ly\";Plotly.newPlot(\"96a86685-f4b0-416e-8be4-408b203de7f2\", [{\"type\": \"scatter\", \"x\": [2015, 2020, 2025, 2030, 2035, 2040, 2045, 2050], \"y\": [3478.038, 3362.647, 3142.404, 2611.727, 2238.62, 1815.762, 1377.745, 863.142], \"name\": [\"Base\"]}], {\"height\": 400, \"width\": 800, \"title\": \"Emissions by Emittant and Sector_CO2 in EU28\", \"yaxis\": {\"title\": \"CO2 in Mt\"}}, {\"showLink\": true, \"linkText\": \"Export to plot.ly\"})});</script>"
      ],
      "text/vnd.plotly.v1+html": [
       "<div id=\"96a86685-f4b0-416e-8be4-408b203de7f2\" style=\"height: 400px; width: 800px;\" class=\"plotly-graph-div\"></div><script type=\"text/javascript\">require([\"plotly\"], function(Plotly) { window.PLOTLYENV=window.PLOTLYENV || {};window.PLOTLYENV.BASE_URL=\"https://plot.ly\";Plotly.newPlot(\"96a86685-f4b0-416e-8be4-408b203de7f2\", [{\"type\": \"scatter\", \"x\": [2015, 2020, 2025, 2030, 2035, 2040, 2045, 2050], \"y\": [3478.038, 3362.647, 3142.404, 2611.727, 2238.62, 1815.762, 1377.745, 863.142], \"name\": [\"Base\"]}], {\"height\": 400, \"width\": 800, \"title\": \"Emissions by Emittant and Sector_CO2 in EU28\", \"yaxis\": {\"title\": \"CO2 in Mt\"}}, {\"showLink\": true, \"linkText\": \"Export to plot.ly\"})});</script>"
      ]
     },
     "metadata": {},
     "output_type": "display_data"
    }
   ],
   "source": [
    "# Interactive plot for one indicator and one pathway\n",
    "data = [go.Scatter(\n",
    "    x = df_1.loc[:,'year'],\n",
    "    y = df_1.loc[:,'value'],\n",
    "    name = df_1.loc[:,'pathway'].unique())]\n",
    "\n",
    "# Set layout\n",
    "layout = go.Layout(\n",
    "    height=400, width = 800,\n",
    "    #title='CO2-Emissions in EU28',\n",
    "    title=''.join(info_dict_1['Title']),\n",
    "    # yaxis=dict(title='CO2-Emissions in Mt') )\n",
    "    yaxis=dict(title=''.join(info_dict_1['Y-Axis'])) )\n",
    "ifig = go.Figure(data=data, layout=layout)\n",
    "pltly.iplot(ifig)"
   ]
  },
  {
   "cell_type": "markdown",
   "metadata": {},
   "source": [
    "## Save results to files\n",
    "\n",
    "The results are saved to cooresponding files in a folder named **data**.<br>\n",
    "The **info_dict** is saved to a text file (txt).<br>\n",
    "The **data** is saved to a table (csv).<br>\n",
    "The **plot** is saved as an image (png).<br>\n",
    "The **interactive plot** is saved as a webpage (html). It will also open in a new tab of your browser."
   ]
  },
  {
   "cell_type": "code",
   "execution_count": 13,
   "metadata": {},
   "outputs": [
    {
     "name": "stdout",
     "output_type": "stream",
     "text": [
      "Facts saved to file: data/2018-05-07_reeem_plot_1.txt\n",
      "Data saved to file: data/2018-05-07_reeem_plot_1.csv\n",
      "Plot saved to file: data/2018-05-07_reeem_plot_1.png\n",
      "Interactive plot saved to file: data/2018-05-07_reeem_plot_1.html\n"
     ]
    }
   ],
   "source": [
    "# Write facts to textfile\n",
    "txtname = ('data/{}.txt').format(*info_dict_1['Filename'])\n",
    "with open(txtname,'w') as tfile:\n",
    "    for i in info_dict_1.keys():\n",
    "        tfile.write(i + \": \" + ', '.join([str(x) for x in info_dict_1[i]]) + \"\\n\")\n",
    "tfile.close()\n",
    "print(\"Facts saved to file:\", txtname)\n",
    "\n",
    "# Save data to CSV\n",
    "csvname = 'data/{}.csv' .format(*info_dict_1['Filename'])\n",
    "df_1.to_csv(csvname, sep=';')\n",
    "print(\"Data saved to file:\", csvname)\n",
    "\n",
    "# Save plot as file\n",
    "plotname = 'data/{}.png' .format(*info_dict_1['Filename'])\n",
    "fig.savefig(plotname, bbox_inches='tight')\n",
    "print(\"Plot saved to file:\", plotname)\n",
    "\n",
    "# Save interactive plot\n",
    "htmlname = 'data/{}.html' .format(*info_dict_1['Filename'])\n",
    "pltly.plot(ifig, filename=htmlname)\n",
    "print(\"Interactive plot saved to file:\", htmlname)"
   ]
  },
  {
   "cell_type": "code",
   "execution_count": null,
   "metadata": {},
   "outputs": [],
   "source": []
  }
 ],
 "metadata": {
  "kernelspec": {
   "display_name": "Python 3",
   "language": "python",
   "name": "python3"
  },
  "language_info": {
   "codemirror_mode": {
    "name": "ipython",
    "version": 3
   },
   "file_extension": ".py",
   "mimetype": "text/x-python",
   "name": "python",
   "nbconvert_exporter": "python",
   "pygments_lexer": "ipython3",
   "version": "3.6.5"
  }
 },
 "nbformat": 4,
 "nbformat_minor": 2
}
