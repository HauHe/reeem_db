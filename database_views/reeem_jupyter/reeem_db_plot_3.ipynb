{
 "cells": [
  {
   "cell_type": "markdown",
   "metadata": {},
   "source": [
    "# Header\n",
    "\n",
    "<img src=\"http://reiner-lemoine-institut.de//wp-content/uploads/2015/09/rlilogo.png\", width=100, style=\"float:right\">\n",
    "\n",
    "__copyright__ \t= \"© Reiner Lemoine Institut\" <br>\n",
    "__license__ \t= \"GNU Affero General Public License Version 3 (AGPL-3.0)\" <br>\n",
    "__url__ \t\t= \"https://www.gnu.org/licenses/agpl-3.0.en.html\" <br>\n",
    "__author__ \t\t= \"Ludwig Hülk\" <br>"
   ]
  },
  {
   "cell_type": "markdown",
   "metadata": {},
   "source": [
    "# Import"
   ]
  },
  {
   "cell_type": "code",
   "execution_count": null,
   "metadata": {},
   "outputs": [],
   "source": [
    "import sys\n",
    "import os\n",
    "import getpass\n",
    "import pandas as pd\n",
    "import numpy as np\n",
    "from sqlalchemy import *\n",
    "# plot\n",
    "import matplotlib.pyplot as plt\n",
    "import matplotlib.ticker as mticker\n",
    "import plotly.graph_objs as go\n",
    "import plotly.offline as pltly\n",
    "import colorlover as cl\n",
    "import seaborn as sns\n",
    "import cufflinks as cf\n",
    "# notebook\n",
    "from IPython.display import Image\n",
    "from IPython.core.display import HTML \n",
    "\n",
    "pltly.init_notebook_mode(connected=True)\n",
    "%matplotlib inline\n",
    "\n",
    "version = 'v0.1.3 (jupyther)'\n",
    "project = 'REEEM'"
   ]
  },
  {
   "cell_type": "markdown",
   "metadata": {},
   "source": [
    "# Database Connection\n",
    "\n",
    "This function creates a database connection to the **reeem_db**.<br>\n",
    "The default user is **reeem_vis**, a user that has only read rights."
   ]
  },
  {
   "cell_type": "code",
   "execution_count": null,
   "metadata": {},
   "outputs": [],
   "source": [
    "def reeem_session():\n",
    "    \"\"\"SQLAlchemy session object with valid connection to reeem database\"\"\"\n",
    "    \n",
    "    print('Please provide connection parameters to database:\\n' +\n",
    "              'Hit [Enter] to take defaults')\n",
    "    host = '130.226.55.43' # input('host (default 130.226.55.43): ')\n",
    "    port = '5432' # input('port (default 5432): ')\n",
    "    database = 'reeem' # input(\"database name (default 'reeem'): \")\n",
    "    user = 'reeem_vis' # input('user (default postgres): ')\n",
    "    # password = input('password: ')\n",
    "    password = getpass.getpass(prompt='password: ',\n",
    "                                   stream=sys.stderr)\n",
    "    con = create_engine(\n",
    "            'postgresql://' + '%s:%s@%s:%s/%s' % (user,\n",
    "                                                  password,\n",
    "                                                  host,\n",
    "                                                  port,\n",
    "                                                  database)).connect()\n",
    "    print('Password correct! Database connection established.')\n",
    "    return con"
   ]
  },
  {
   "cell_type": "markdown",
   "metadata": {},
   "source": [
    "# Access Data\n",
    "\n",
    "This section establishes the database connection and asks for the **password**.<br>\n",
    "The username can be changed in the corresponding function in the section **Database Connection** above.<br>\n",
    "If you don't have a username or forgot your password please contact your database admins."
   ]
  },
  {
   "cell_type": "code",
   "execution_count": null,
   "metadata": {},
   "outputs": [],
   "source": [
    "con = reeem_session()"
   ]
  },
  {
   "cell_type": "markdown",
   "metadata": {},
   "source": [
    "# View 0.1: Existing entries in one column"
   ]
  },
  {
   "cell_type": "markdown",
   "metadata": {},
   "source": [
    "## Database Query\n",
    "\n",
    "This section can be used to query one specific database **column** from one database table (**FROM**).<br>\n",
    "The result is saved to a pandas.DataFrame (**df_0**) and printed."
   ]
  },
  {
   "cell_type": "code",
   "execution_count": null,
   "metadata": {},
   "outputs": [],
   "source": [
    "# Database select (SQL)\n",
    "column = 'pathway' # id, pathway, version, region, year, indicator, category, value, unit\n",
    "sql = text(\"\"\"\n",
    "    SELECT  {0} \n",
    "    FROM    model_draft.reeem_times_paneu_output \n",
    "    GROUP BY {0} \n",
    "    ORDER BY {0}; \"\"\".format(column))\n",
    "df_0 = pd.read_sql_query(sql, con)\n",
    "print(df_0)"
   ]
  },
  {
   "cell_type": "markdown",
   "metadata": {},
   "source": [
    "# View 0.2: Search for existing indicators"
   ]
  },
  {
   "cell_type": "markdown",
   "metadata": {},
   "source": [
    "## Database Query\n",
    "\n",
    "This section can be used to search for one specific **indicator** and its **nid** in one database table.<br>\n",
    "The documentation of the **LIKE** expression is [here](https://www.postgresql.org/docs/current/static/functions-matching.html#FUNCTIONS-LIKE). \n",
    "The result is printed.<br>\n",
    "Hint: If one indicator has multiple nid it is a bug!"
   ]
  },
  {
   "cell_type": "code",
   "execution_count": null,
   "metadata": {},
   "outputs": [],
   "source": [
    "# Database select (SQL)\n",
    "sql = text(\"\"\"\n",
    "    SELECT  nid, category, indicator\n",
    "    FROM    model_draft.reeem_times_paneu_output \n",
    "    WHERE   category LIKE 'Emissions%' \n",
    "            AND indicator = 'CO2' \n",
    "    GROUP BY nid, category , indicator\n",
    "    ORDER BY nid, category , indicator; \"\"\")\n",
    "df_0 = pd.read_sql_query(sql, con)\n",
    "print(df_0)"
   ]
  },
  {
   "cell_type": "code",
   "execution_count": null,
   "metadata": {},
   "outputs": [],
   "source": []
  },
  {
   "cell_type": "markdown",
   "metadata": {},
   "source": [
    "# View 3: One indicator for all regions in one pathway over time"
   ]
  },
  {
   "cell_type": "markdown",
   "metadata": {},
   "source": [
    "## Database Query\n",
    "\n",
    "This section can be used to query one specific **indicator** for all regions from one database table (_table_).<br>\n",
    "Indicators are identified by the **nid** (_filter 1_).<br>\n",
    "Only **region** _EU28_ is excluded (_filter 2_).<br>\n",
    "It is possible to select one specific **pathway** (_filter 3_) and one specific data **version** (_filter 4_).<br>\n",
    "To querry additional coulmns from the database table add the names to the **SELECT** statement (_column_).<br>\n",
    "The sortation is done by the **ORDER BY** (_sorting_).<br>\n",
    "The result from the database is saved to a pandas.DataFrame (**df_3**) and can be printed."
   ]
  },
  {
   "cell_type": "code",
   "execution_count": null,
   "metadata": {},
   "outputs": [],
   "source": [
    "# Database select (SQL)\n",
    "sql = text(\"\"\"\n",
    "    SELECT  pathway, version, region, year, nid, indicator, category, value, unit  -- column\n",
    "    FROM    model_draft.reeem_times_paneu_output  -- table\n",
    "    WHERE nid = 867                               -- filter 1\n",
    "        AND region <> 'EU28'                      -- filter 2\n",
    "        AND pathway = 'Base'                      -- filter 3\n",
    "        AND version = 'DataV1'                    -- filter 4\n",
    "    ORDER BY pathway, version, region, year;      -- sorting \"\"\")\n",
    "df_3 = pd.read_sql_query(sql, con)\n",
    "# print(df_3)"
   ]
  },
  {
   "cell_type": "markdown",
   "metadata": {},
   "source": [
    "## Metadata\n",
    "\n",
    "The important information from the above select (**df_3**) is collected in a Dictionary (**info_dict_3**)."
   ]
  },
  {
   "cell_type": "code",
   "execution_count": null,
   "metadata": {},
   "outputs": [],
   "source": [
    "# Facts dict\n",
    "info_dict_3 = {}\n",
    "info_dict_3['Filename'] = ['{}_reeem_plot_3' .format(pd.to_datetime('today').strftime(\"%Y-%m-%d\"))]\n",
    "info_dict_3['Category'] = df_3.loc[:,'category'].unique()\n",
    "info_dict_3['Indicator'] = df_3.loc[:,'indicator'].unique()\n",
    "info_dict_3['Unit'] = df_3.loc[:,'unit'].unique()\n",
    "info_dict_3['Pathway'] = df_3.loc[:,'pathway'].unique()\n",
    "info_dict_3['Year'] = df_3.loc[:,'year'].unique().tolist()\n",
    "info_dict_3['Region'] = df_3.loc[:,'region'].unique()\n",
    "info_dict_3['Y-Axis'] = ['{} in {}'.format(*info_dict_3['Indicator'], *info_dict_3['Unit'])]\n",
    "info_dict_3['Title'] = ['{} in all regions'.format(*info_dict_3['Category'])]\n",
    "# ToDo: Select metadata string from database table and also add!\n",
    "\n",
    "# Print facts\n",
    "for x in info_dict_3:\n",
    "    print(x,':',info_dict_3[x])"
   ]
  },
  {
   "cell_type": "markdown",
   "metadata": {},
   "source": [
    "## Stack data\n",
    "\n",
    "This pivot function reorganises the data and makes each pathway a column. The year is used as the index.<br>\n",
    "The result is saved to a new dataframe (**df_3p**) and can be printed."
   ]
  },
  {
   "cell_type": "code",
   "execution_count": null,
   "metadata": {},
   "outputs": [],
   "source": [
    "# Reshape dataframe\n",
    "df_3p = df_3.pivot(index='year', columns='region',  values='value')\n",
    "# print (df_3p)"
   ]
  },
  {
   "cell_type": "markdown",
   "metadata": {},
   "source": [
    "## Plot\n",
    "\n",
    "This is a basic plot with [matplotlib](https://matplotlib.org/).<br>\n",
    "The title and y-axis labels are taken from the **info_dict_3**. They can be exchanged with manual text."
   ]
  },
  {
   "cell_type": "code",
   "execution_count": null,
   "metadata": {},
   "outputs": [],
   "source": [
    "# Plot for one indicator and one pathway\n",
    "fig = plt.figure(figsize=(12, 10))\n",
    "ax = plt.subplot()\n",
    "# plt.title(r'CO2-Emissions in all regions', fontsize=16)  # Manual title\n",
    "plt.title(*info_dict_3['Title'], fontsize=16)         # Title from info\n",
    "# plt.ylabel(r'CO2-Emissions in Mt')                # Manual label\n",
    "plt.ylabel(*info_dict_3['Y-Axis'])                    # Label from info\n",
    "plt.plot(df_3p, \n",
    "         marker=\"o\",  markersize=5)\n",
    "plt.legend(df_3p)\n",
    "ax.set_ylim(ymin=0)"
   ]
  },
  {
   "cell_type": "markdown",
   "metadata": {},
   "source": [
    "## Interactive Plot\n",
    "\n",
    "This is a basic interactive plot with [Plotly](https://plot.ly/python/).<br>\n",
    "You can hover over the elements of the plot and observe the data.<br>\n",
    "The different pathways can be switched on and off."
   ]
  },
  {
   "cell_type": "code",
   "execution_count": null,
   "metadata": {},
   "outputs": [],
   "source": [
    "# Iterate over pathways and add to data\n",
    "regions = df_3.loc[:,'region'].unique()\n",
    "data = []\n",
    "for region in regions:\n",
    "    data.append(go.Scatter(\n",
    "        x = df_3.loc[df_3['region'] == region].loc[:,'year'],\n",
    "        y = df_3.loc[df_3['region'] == region].loc[:,'value'],\n",
    "        name = region))\n",
    "\n",
    "# Set layout\n",
    "layout = go.Layout(\n",
    "    height=800, width = 800,\n",
    "    #title='CO2-Emissions in EU28',\n",
    "    title=''.join(info_dict_3['Title']),\n",
    "    # yaxis=dict(title='CO2-Emissions in Mt') )\n",
    "    yaxis=dict(title=''.join(info_dict_3['Y-Axis'])) )\n",
    "ifig = go.Figure(data=data, layout=layout)\n",
    "pltly.iplot(ifig)"
   ]
  },
  {
   "cell_type": "code",
   "execution_count": null,
   "metadata": {},
   "outputs": [],
   "source": [
    "cf.getThemes()\n",
    "cf.set_config_file(theme='pearl')"
   ]
  },
  {
   "cell_type": "code",
   "execution_count": null,
   "metadata": {},
   "outputs": [],
   "source": [
    "layout = cf.Layout(xaxis=dict(showgrid=False),yaxis=dict(showgrid=False))\n",
    "df_3p.iplot(kind='barh',\n",
    "           barmode='stack',\n",
    "           layout_update=layout)"
   ]
  },
  {
   "cell_type": "markdown",
   "metadata": {},
   "source": [
    "## Use _seaborn_ for more plotting options\n",
    "\n",
    "_Seaborn_ is a python libary for statistical data visualization.<br>\n",
    "Select a [seaborn palette](http://seaborn.pydata.org/tutorial/color_palettes.html) that you like."
   ]
  },
  {
   "cell_type": "code",
   "execution_count": null,
   "metadata": {},
   "outputs": [],
   "source": [
    "# Other options are: deep, muted, pastel, bright, dark, and colorblind\n",
    "sns.palplot(sns.color_palette(\"Set1\", 9))\n",
    "sns.palplot(sns.color_palette(\"colorblind\", 9))\n",
    "sns.palplot(sns.color_palette(\"Blues\", 29))\n",
    "sns.palplot(sns.color_palette(\"BuGn_r\", 9))"
   ]
  },
  {
   "cell_type": "code",
   "execution_count": null,
   "metadata": {},
   "outputs": [],
   "source": [
    "colormap = sns.color_palette(\"colorblind\", len(df_3p.columns)).as_hex()\n",
    "df_3p.iplot(kind='bar',\n",
    "            barmode='stack',\n",
    "            colors=colormap)"
   ]
  },
  {
   "cell_type": "markdown",
   "metadata": {},
   "source": [
    "## Save results to files\n",
    "\n",
    "The results are saved to cooresponding files in a folder named **data**.<br>\n",
    "The **info_dict** is saved to a text file (txt).<br>\n",
    "The **data** is saved to a table (csv).<br>\n",
    "The **plot** is saved as an image (png).<br>\n",
    "The **interactive plot** is saved as a webpage (html). It will also open in a new tab of your browser.<br>"
   ]
  },
  {
   "cell_type": "code",
   "execution_count": null,
   "metadata": {},
   "outputs": [],
   "source": [
    "# Write facts to textfile\n",
    "filename = ('data/{}.txt').format(*info_dict_3['Filename'])\n",
    "with open(filename,'w') as tfile:\n",
    "    for i in info_dict_3.keys():\n",
    "        tfile.write(i + \": \" + ', '.join([str(x) for x in info_dict_3[i]]) + \"\\n\")\n",
    "tfile.close()\n",
    "print(\"Facts saved to file:\", filename)\n",
    "\n",
    "# Save data to CSV\n",
    "csvname = 'data/{}.csv' .format(*info_dict_3['Filename'])\n",
    "df_3.to_csv(csvname, sep=';')\n",
    "print(\"Data saved to file:\", csvname)\n",
    "\n",
    "# Save pivot data to CSV\n",
    "csvname = 'data/{}_pivot.csv' .format(*info_dict_3['Filename'])\n",
    "df_3p.to_csv(csvname, sep=';')\n",
    "print(\"Data saved to file:\", csvname)\n",
    "\n",
    "# Save plot as file\n",
    "plotname = 'data/{}.png' .format(*info_dict_3['Filename'])\n",
    "fig.savefig(plotname, bbox_inches='tight')\n",
    "print(\"Plot saved to file:\", plotname)\n",
    "\n",
    "# Save interactive plot\n",
    "htmlname = 'data/{}.html' .format(*info_dict_3['Filename'])\n",
    "pltly.plot(ifig, filename=htmlname)\n",
    "print(\"Interactive plot saved to file:\", htmlname)"
   ]
  },
  {
   "cell_type": "code",
   "execution_count": null,
   "metadata": {},
   "outputs": [],
   "source": []
  }
 ],
 "metadata": {
  "kernelspec": {
   "display_name": "Python 3",
   "language": "python",
   "name": "python3"
  },
  "language_info": {
   "codemirror_mode": {
    "name": "ipython",
    "version": 3
   },
   "file_extension": ".py",
   "mimetype": "text/x-python",
   "name": "python",
   "nbconvert_exporter": "python",
   "pygments_lexer": "ipython3",
   "version": "3.6.2"
  }
 },
 "nbformat": 4,
 "nbformat_minor": 2
}
